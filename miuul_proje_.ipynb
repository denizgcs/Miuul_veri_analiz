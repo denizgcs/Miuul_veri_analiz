{
  "cells": [
    {
      "cell_type": "markdown",
      "metadata": {
        "id": "view-in-github",
        "colab_type": "text"
      },
      "source": [
        "<a href=\"https://colab.research.google.com/github/denizgcs/Miuul_veri_analiz/blob/master/miuul_proje_.ipynb\" target=\"_parent\"><img src=\"https://colab.research.google.com/assets/colab-badge.svg\" alt=\"Open In Colab\"/></a>"
      ]
    },
    {
      "cell_type": "markdown",
      "id": "ba60766b-12f9-40a5-bbb5-dc5273d6dfb2",
      "metadata": {
        "id": "ba60766b-12f9-40a5-bbb5-dc5273d6dfb2"
      },
      "source": [
        "Bu çalışma\n",
        "Python Programming for Data Science\n",
        "eğitimi projesidir\n",
        "Kural Tabanlı Sınıflandırma ile\n",
        "Potansiyel Müşteri Getirisi Hesaplama"
      ]
    },
    {
      "cell_type": "code",
      "execution_count": null,
      "id": "acdf565d-e0e0-418a-b0e5-e0d73ebc012b",
      "metadata": {
        "colab": {
          "base_uri": "https://localhost:8080/",
          "height": 206
        },
        "id": "acdf565d-e0e0-418a-b0e5-e0d73ebc012b",
        "outputId": "052fb8fd-3be5-48f0-db69-bb265c465f14"
      },
      "outputs": [
        {
          "output_type": "execute_result",
          "data": {
            "text/plain": [
              "   PRICE   SOURCE   SEX COUNTRY  AGE\n",
              "0     39  android  male     bra   17\n",
              "1     39  android  male     bra   17\n",
              "2     49  android  male     bra   17\n",
              "3     29  android  male     tur   17\n",
              "4     49  android  male     tur   17"
            ],
            "text/html": [
              "\n",
              "  <div id=\"df-ad944b2d-9df6-4731-ac2d-3e10e80c97b6\" class=\"colab-df-container\">\n",
              "    <div>\n",
              "<style scoped>\n",
              "    .dataframe tbody tr th:only-of-type {\n",
              "        vertical-align: middle;\n",
              "    }\n",
              "\n",
              "    .dataframe tbody tr th {\n",
              "        vertical-align: top;\n",
              "    }\n",
              "\n",
              "    .dataframe thead th {\n",
              "        text-align: right;\n",
              "    }\n",
              "</style>\n",
              "<table border=\"1\" class=\"dataframe\">\n",
              "  <thead>\n",
              "    <tr style=\"text-align: right;\">\n",
              "      <th></th>\n",
              "      <th>PRICE</th>\n",
              "      <th>SOURCE</th>\n",
              "      <th>SEX</th>\n",
              "      <th>COUNTRY</th>\n",
              "      <th>AGE</th>\n",
              "    </tr>\n",
              "  </thead>\n",
              "  <tbody>\n",
              "    <tr>\n",
              "      <th>0</th>\n",
              "      <td>39</td>\n",
              "      <td>android</td>\n",
              "      <td>male</td>\n",
              "      <td>bra</td>\n",
              "      <td>17</td>\n",
              "    </tr>\n",
              "    <tr>\n",
              "      <th>1</th>\n",
              "      <td>39</td>\n",
              "      <td>android</td>\n",
              "      <td>male</td>\n",
              "      <td>bra</td>\n",
              "      <td>17</td>\n",
              "    </tr>\n",
              "    <tr>\n",
              "      <th>2</th>\n",
              "      <td>49</td>\n",
              "      <td>android</td>\n",
              "      <td>male</td>\n",
              "      <td>bra</td>\n",
              "      <td>17</td>\n",
              "    </tr>\n",
              "    <tr>\n",
              "      <th>3</th>\n",
              "      <td>29</td>\n",
              "      <td>android</td>\n",
              "      <td>male</td>\n",
              "      <td>tur</td>\n",
              "      <td>17</td>\n",
              "    </tr>\n",
              "    <tr>\n",
              "      <th>4</th>\n",
              "      <td>49</td>\n",
              "      <td>android</td>\n",
              "      <td>male</td>\n",
              "      <td>tur</td>\n",
              "      <td>17</td>\n",
              "    </tr>\n",
              "  </tbody>\n",
              "</table>\n",
              "</div>\n",
              "    <div class=\"colab-df-buttons\">\n",
              "\n",
              "  <div class=\"colab-df-container\">\n",
              "    <button class=\"colab-df-convert\" onclick=\"convertToInteractive('df-ad944b2d-9df6-4731-ac2d-3e10e80c97b6')\"\n",
              "            title=\"Convert this dataframe to an interactive table.\"\n",
              "            style=\"display:none;\">\n",
              "\n",
              "  <svg xmlns=\"http://www.w3.org/2000/svg\" height=\"24px\" viewBox=\"0 -960 960 960\">\n",
              "    <path d=\"M120-120v-720h720v720H120Zm60-500h600v-160H180v160Zm220 220h160v-160H400v160Zm0 220h160v-160H400v160ZM180-400h160v-160H180v160Zm440 0h160v-160H620v160ZM180-180h160v-160H180v160Zm440 0h160v-160H620v160Z\"/>\n",
              "  </svg>\n",
              "    </button>\n",
              "\n",
              "  <style>\n",
              "    .colab-df-container {\n",
              "      display:flex;\n",
              "      gap: 12px;\n",
              "    }\n",
              "\n",
              "    .colab-df-convert {\n",
              "      background-color: #E8F0FE;\n",
              "      border: none;\n",
              "      border-radius: 50%;\n",
              "      cursor: pointer;\n",
              "      display: none;\n",
              "      fill: #1967D2;\n",
              "      height: 32px;\n",
              "      padding: 0 0 0 0;\n",
              "      width: 32px;\n",
              "    }\n",
              "\n",
              "    .colab-df-convert:hover {\n",
              "      background-color: #E2EBFA;\n",
              "      box-shadow: 0px 1px 2px rgba(60, 64, 67, 0.3), 0px 1px 3px 1px rgba(60, 64, 67, 0.15);\n",
              "      fill: #174EA6;\n",
              "    }\n",
              "\n",
              "    .colab-df-buttons div {\n",
              "      margin-bottom: 4px;\n",
              "    }\n",
              "\n",
              "    [theme=dark] .colab-df-convert {\n",
              "      background-color: #3B4455;\n",
              "      fill: #D2E3FC;\n",
              "    }\n",
              "\n",
              "    [theme=dark] .colab-df-convert:hover {\n",
              "      background-color: #434B5C;\n",
              "      box-shadow: 0px 1px 3px 1px rgba(0, 0, 0, 0.15);\n",
              "      filter: drop-shadow(0px 1px 2px rgba(0, 0, 0, 0.3));\n",
              "      fill: #FFFFFF;\n",
              "    }\n",
              "  </style>\n",
              "\n",
              "    <script>\n",
              "      const buttonEl =\n",
              "        document.querySelector('#df-ad944b2d-9df6-4731-ac2d-3e10e80c97b6 button.colab-df-convert');\n",
              "      buttonEl.style.display =\n",
              "        google.colab.kernel.accessAllowed ? 'block' : 'none';\n",
              "\n",
              "      async function convertToInteractive(key) {\n",
              "        const element = document.querySelector('#df-ad944b2d-9df6-4731-ac2d-3e10e80c97b6');\n",
              "        const dataTable =\n",
              "          await google.colab.kernel.invokeFunction('convertToInteractive',\n",
              "                                                    [key], {});\n",
              "        if (!dataTable) return;\n",
              "\n",
              "        const docLinkHtml = 'Like what you see? Visit the ' +\n",
              "          '<a target=\"_blank\" href=https://colab.research.google.com/notebooks/data_table.ipynb>data table notebook</a>'\n",
              "          + ' to learn more about interactive tables.';\n",
              "        element.innerHTML = '';\n",
              "        dataTable['output_type'] = 'display_data';\n",
              "        await google.colab.output.renderOutput(dataTable, element);\n",
              "        const docLink = document.createElement('div');\n",
              "        docLink.innerHTML = docLinkHtml;\n",
              "        element.appendChild(docLink);\n",
              "      }\n",
              "    </script>\n",
              "  </div>\n",
              "\n",
              "\n",
              "    <div id=\"df-943f779a-d3d1-4e64-aeff-8ec3305683f4\">\n",
              "      <button class=\"colab-df-quickchart\" onclick=\"quickchart('df-943f779a-d3d1-4e64-aeff-8ec3305683f4')\"\n",
              "                title=\"Suggest charts\"\n",
              "                style=\"display:none;\">\n",
              "\n",
              "<svg xmlns=\"http://www.w3.org/2000/svg\" height=\"24px\"viewBox=\"0 0 24 24\"\n",
              "     width=\"24px\">\n",
              "    <g>\n",
              "        <path d=\"M19 3H5c-1.1 0-2 .9-2 2v14c0 1.1.9 2 2 2h14c1.1 0 2-.9 2-2V5c0-1.1-.9-2-2-2zM9 17H7v-7h2v7zm4 0h-2V7h2v10zm4 0h-2v-4h2v4z\"/>\n",
              "    </g>\n",
              "</svg>\n",
              "      </button>\n",
              "\n",
              "<style>\n",
              "  .colab-df-quickchart {\n",
              "      --bg-color: #E8F0FE;\n",
              "      --fill-color: #1967D2;\n",
              "      --hover-bg-color: #E2EBFA;\n",
              "      --hover-fill-color: #174EA6;\n",
              "      --disabled-fill-color: #AAA;\n",
              "      --disabled-bg-color: #DDD;\n",
              "  }\n",
              "\n",
              "  [theme=dark] .colab-df-quickchart {\n",
              "      --bg-color: #3B4455;\n",
              "      --fill-color: #D2E3FC;\n",
              "      --hover-bg-color: #434B5C;\n",
              "      --hover-fill-color: #FFFFFF;\n",
              "      --disabled-bg-color: #3B4455;\n",
              "      --disabled-fill-color: #666;\n",
              "  }\n",
              "\n",
              "  .colab-df-quickchart {\n",
              "    background-color: var(--bg-color);\n",
              "    border: none;\n",
              "    border-radius: 50%;\n",
              "    cursor: pointer;\n",
              "    display: none;\n",
              "    fill: var(--fill-color);\n",
              "    height: 32px;\n",
              "    padding: 0;\n",
              "    width: 32px;\n",
              "  }\n",
              "\n",
              "  .colab-df-quickchart:hover {\n",
              "    background-color: var(--hover-bg-color);\n",
              "    box-shadow: 0 1px 2px rgba(60, 64, 67, 0.3), 0 1px 3px 1px rgba(60, 64, 67, 0.15);\n",
              "    fill: var(--button-hover-fill-color);\n",
              "  }\n",
              "\n",
              "  .colab-df-quickchart-complete:disabled,\n",
              "  .colab-df-quickchart-complete:disabled:hover {\n",
              "    background-color: var(--disabled-bg-color);\n",
              "    fill: var(--disabled-fill-color);\n",
              "    box-shadow: none;\n",
              "  }\n",
              "\n",
              "  .colab-df-spinner {\n",
              "    border: 2px solid var(--fill-color);\n",
              "    border-color: transparent;\n",
              "    border-bottom-color: var(--fill-color);\n",
              "    animation:\n",
              "      spin 1s steps(1) infinite;\n",
              "  }\n",
              "\n",
              "  @keyframes spin {\n",
              "    0% {\n",
              "      border-color: transparent;\n",
              "      border-bottom-color: var(--fill-color);\n",
              "      border-left-color: var(--fill-color);\n",
              "    }\n",
              "    20% {\n",
              "      border-color: transparent;\n",
              "      border-left-color: var(--fill-color);\n",
              "      border-top-color: var(--fill-color);\n",
              "    }\n",
              "    30% {\n",
              "      border-color: transparent;\n",
              "      border-left-color: var(--fill-color);\n",
              "      border-top-color: var(--fill-color);\n",
              "      border-right-color: var(--fill-color);\n",
              "    }\n",
              "    40% {\n",
              "      border-color: transparent;\n",
              "      border-right-color: var(--fill-color);\n",
              "      border-top-color: var(--fill-color);\n",
              "    }\n",
              "    60% {\n",
              "      border-color: transparent;\n",
              "      border-right-color: var(--fill-color);\n",
              "    }\n",
              "    80% {\n",
              "      border-color: transparent;\n",
              "      border-right-color: var(--fill-color);\n",
              "      border-bottom-color: var(--fill-color);\n",
              "    }\n",
              "    90% {\n",
              "      border-color: transparent;\n",
              "      border-bottom-color: var(--fill-color);\n",
              "    }\n",
              "  }\n",
              "</style>\n",
              "\n",
              "      <script>\n",
              "        async function quickchart(key) {\n",
              "          const quickchartButtonEl =\n",
              "            document.querySelector('#' + key + ' button');\n",
              "          quickchartButtonEl.disabled = true;  // To prevent multiple clicks.\n",
              "          quickchartButtonEl.classList.add('colab-df-spinner');\n",
              "          try {\n",
              "            const charts = await google.colab.kernel.invokeFunction(\n",
              "                'suggestCharts', [key], {});\n",
              "          } catch (error) {\n",
              "            console.error('Error during call to suggestCharts:', error);\n",
              "          }\n",
              "          quickchartButtonEl.classList.remove('colab-df-spinner');\n",
              "          quickchartButtonEl.classList.add('colab-df-quickchart-complete');\n",
              "        }\n",
              "        (() => {\n",
              "          let quickchartButtonEl =\n",
              "            document.querySelector('#df-943f779a-d3d1-4e64-aeff-8ec3305683f4 button');\n",
              "          quickchartButtonEl.style.display =\n",
              "            google.colab.kernel.accessAllowed ? 'block' : 'none';\n",
              "        })();\n",
              "      </script>\n",
              "    </div>\n",
              "\n",
              "    </div>\n",
              "  </div>\n"
            ],
            "application/vnd.google.colaboratory.intrinsic+json": {
              "type": "dataframe",
              "variable_name": "df",
              "summary": "{\n  \"name\": \"df\",\n  \"rows\": 5000,\n  \"fields\": [\n    {\n      \"column\": \"PRICE\",\n      \"properties\": {\n        \"dtype\": \"number\",\n        \"std\": 12,\n        \"min\": 9,\n        \"max\": 59,\n        \"num_unique_values\": 6,\n        \"samples\": [\n          39,\n          49,\n          9\n        ],\n        \"semantic_type\": \"\",\n        \"description\": \"\"\n      }\n    },\n    {\n      \"column\": \"SOURCE\",\n      \"properties\": {\n        \"dtype\": \"category\",\n        \"num_unique_values\": 2,\n        \"samples\": [\n          \"ios\",\n          \"android\"\n        ],\n        \"semantic_type\": \"\",\n        \"description\": \"\"\n      }\n    },\n    {\n      \"column\": \"SEX\",\n      \"properties\": {\n        \"dtype\": \"category\",\n        \"num_unique_values\": 2,\n        \"samples\": [\n          \"female\",\n          \"male\"\n        ],\n        \"semantic_type\": \"\",\n        \"description\": \"\"\n      }\n    },\n    {\n      \"column\": \"COUNTRY\",\n      \"properties\": {\n        \"dtype\": \"category\",\n        \"num_unique_values\": 6,\n        \"samples\": [\n          \"bra\",\n          \"tur\"\n        ],\n        \"semantic_type\": \"\",\n        \"description\": \"\"\n      }\n    },\n    {\n      \"column\": \"AGE\",\n      \"properties\": {\n        \"dtype\": \"number\",\n        \"std\": 8,\n        \"min\": 15,\n        \"max\": 66,\n        \"num_unique_values\": 46,\n        \"samples\": [\n          56,\n          47\n        ],\n        \"semantic_type\": \"\",\n        \"description\": \"\"\n      }\n    }\n  ]\n}"
            }
          },
          "metadata": {},
          "execution_count": 1
        }
      ],
      "source": [
        "import pandas as pd\n",
        "df=pd.read_csv(\"persona.csv\")\n",
        "df.head()"
      ]
    },
    {
      "cell_type": "code",
      "execution_count": null,
      "id": "10b4175e-ca88-4753-8343-0cee14df3884",
      "metadata": {
        "id": "10b4175e-ca88-4753-8343-0cee14df3884",
        "outputId": "62fefc68-48b3-4584-e40e-354678e72ac8"
      },
      "outputs": [
        {
          "data": {
            "text/plain": [
              "PRICE       6\n",
              "SOURCE      2\n",
              "SEX         2\n",
              "COUNTRY     6\n",
              "AGE        46\n",
              "dtype: int64"
            ]
          },
          "execution_count": 91,
          "metadata": {},
          "output_type": "execute_result"
        }
      ],
      "source": [
        "df.nunique()"
      ]
    },
    {
      "cell_type": "code",
      "execution_count": null,
      "id": "16646bcf-c14a-4fe9-a785-3857a3b370d0",
      "metadata": {
        "id": "16646bcf-c14a-4fe9-a785-3857a3b370d0",
        "outputId": "fc327978-69d5-43b9-8a76-8d05321f4a30"
      },
      "outputs": [
        {
          "data": {
            "text/plain": [
              "PRICE\n",
              "29    1305\n",
              "39    1260\n",
              "49    1031\n",
              "19     992\n",
              "59     212\n",
              "9      200\n",
              "Name: count, dtype: int64"
            ]
          },
          "execution_count": 92,
          "metadata": {},
          "output_type": "execute_result"
        }
      ],
      "source": [
        "df[\"PRICE\"].value_counts()"
      ]
    },
    {
      "cell_type": "code",
      "execution_count": null,
      "id": "2e3b78bf-3baf-4d8a-b194-6fa6702fd0bc",
      "metadata": {
        "id": "2e3b78bf-3baf-4d8a-b194-6fa6702fd0bc",
        "outputId": "822b758e-d640-4edd-d537-9ff9cc33a61f"
      },
      "outputs": [
        {
          "data": {
            "text/plain": [
              "COUNTRY\n",
              "usa    2065\n",
              "bra    1496\n",
              "deu     455\n",
              "tur     451\n",
              "fra     303\n",
              "can     230\n",
              "Name: count, dtype: int64"
            ]
          },
          "execution_count": 93,
          "metadata": {},
          "output_type": "execute_result"
        }
      ],
      "source": [
        "df[\"COUNTRY\"].value_counts()"
      ]
    },
    {
      "cell_type": "code",
      "execution_count": null,
      "id": "b5a0203b-2b38-4958-8b9e-b4a13421d006",
      "metadata": {
        "id": "b5a0203b-2b38-4958-8b9e-b4a13421d006",
        "outputId": "5f8623d4-cfc1-453e-db00-cf95131d58e5"
      },
      "outputs": [
        {
          "data": {
            "text/plain": [
              "COUNTRY\n",
              "bra    51354\n",
              "can     7730\n",
              "deu    15485\n",
              "fra    10177\n",
              "tur    15689\n",
              "usa    70225\n",
              "Name: PRICE, dtype: int64"
            ]
          },
          "execution_count": 94,
          "metadata": {},
          "output_type": "execute_result"
        }
      ],
      "source": [
        "df.groupby(\"COUNTRY\")[\"PRICE\"].sum()\n"
      ]
    },
    {
      "cell_type": "code",
      "execution_count": null,
      "id": "ad624d5b-14ef-4ea3-8575-63520c7aaf2d",
      "metadata": {
        "id": "ad624d5b-14ef-4ea3-8575-63520c7aaf2d",
        "outputId": "ff94cdc8-0902-4413-d299-7134df3ffeff"
      },
      "outputs": [
        {
          "data": {
            "text/plain": [
              "SOURCE\n",
              "android    2974\n",
              "ios        2026\n",
              "Name: count, dtype: int64"
            ]
          },
          "execution_count": 95,
          "metadata": {},
          "output_type": "execute_result"
        }
      ],
      "source": [
        "df[\"SOURCE\"].value_counts()"
      ]
    },
    {
      "cell_type": "code",
      "execution_count": null,
      "id": "0377724c-3cb1-42f4-8439-4357115d70c5",
      "metadata": {
        "id": "0377724c-3cb1-42f4-8439-4357115d70c5",
        "outputId": "630ab664-049e-40b1-f613-04281d0c0b86"
      },
      "outputs": [
        {
          "data": {
            "text/plain": [
              "COUNTRY\n",
              "bra    34.327540\n",
              "can    33.608696\n",
              "deu    34.032967\n",
              "fra    33.587459\n",
              "tur    34.787140\n",
              "usa    34.007264\n",
              "Name: PRICE, dtype: float64"
            ]
          },
          "execution_count": 96,
          "metadata": {},
          "output_type": "execute_result"
        }
      ],
      "source": [
        "df.groupby(\"COUNTRY\")[\"PRICE\"].mean()"
      ]
    },
    {
      "cell_type": "code",
      "execution_count": null,
      "id": "69f56383-84bf-4046-9752-59a4b18a6306",
      "metadata": {
        "id": "69f56383-84bf-4046-9752-59a4b18a6306",
        "outputId": "add56e9a-dcc4-48b6-bd7a-08a68801fc00"
      },
      "outputs": [
        {
          "data": {
            "text/plain": [
              "SOURCE\n",
              "android    34.174849\n",
              "ios        34.069102\n",
              "Name: PRICE, dtype: float64"
            ]
          },
          "execution_count": 97,
          "metadata": {},
          "output_type": "execute_result"
        }
      ],
      "source": [
        "df.groupby(\"SOURCE\")[\"PRICE\"].mean()\n"
      ]
    },
    {
      "cell_type": "code",
      "execution_count": null,
      "id": "462a7043-ac7d-4f3e-87e7-f8e01bab4fbe",
      "metadata": {
        "id": "462a7043-ac7d-4f3e-87e7-f8e01bab4fbe",
        "outputId": "f270601b-9b9e-4405-c713-3252c60f33f5"
      },
      "outputs": [
        {
          "data": {
            "text/plain": [
              "COUNTRY  SOURCE \n",
              "bra      android    34.387029\n",
              "         ios        34.222222\n",
              "can      android    33.330709\n",
              "         ios        33.951456\n",
              "deu      android    33.869888\n",
              "         ios        34.268817\n",
              "fra      android    34.312500\n",
              "         ios        32.776224\n",
              "tur      android    36.229437\n",
              "         ios        33.272727\n",
              "usa      android    33.760357\n",
              "         ios        34.371703\n",
              "Name: PRICE, dtype: float64"
            ]
          },
          "execution_count": 98,
          "metadata": {},
          "output_type": "execute_result"
        }
      ],
      "source": [
        "df.groupby([\"COUNTRY\",\"SOURCE\"])[\"PRICE\"].mean()\n"
      ]
    },
    {
      "cell_type": "code",
      "execution_count": null,
      "id": "0d66c09d-d0f8-4013-9672-2feee374b238",
      "metadata": {
        "id": "0d66c09d-d0f8-4013-9672-2feee374b238",
        "outputId": "d9364624-59d1-426c-cdb3-3078e93dd697"
      },
      "outputs": [
        {
          "data": {
            "text/plain": [
              "COUNTRY  SOURCE   AGE\n",
              "deu      android  26      9.0\n",
              "fra      android  18     19.0\n",
              "bra      ios      47     19.0\n",
              "tur      ios      47     19.0\n",
              "can      android  27     19.0\n",
              "                         ... \n",
              "fra      ios      20     49.0\n",
              "usa      ios      32     54.0\n",
              "bra      android  46     59.0\n",
              "usa      android  36     59.0\n",
              "fra      android  24     59.0\n",
              "Name: PRICE, Length: 248, dtype: float64"
            ]
          },
          "execution_count": 99,
          "metadata": {},
          "output_type": "execute_result"
        }
      ],
      "source": [
        "df.groupby([\"COUNTRY\",\"SOURCE\",\"AGE\"])[\"PRICE\"].mean().sort_values()"
      ]
    },
    {
      "cell_type": "code",
      "execution_count": null,
      "id": "f88bd755-4dd9-4095-b31b-25301ea5e9ff",
      "metadata": {
        "id": "f88bd755-4dd9-4095-b31b-25301ea5e9ff"
      },
      "outputs": [],
      "source": [
        "df[\"AGE_CAT\"] = pd.cut(df[\"AGE\"],\n",
        "                       bins=[0, 18, 23, 30, 40, 70],\n",
        "                       labels=[\"0_18\", \"19_23\", \"24_30\", \"31_40\", \"41_70\"])\n"
      ]
    },
    {
      "cell_type": "code",
      "execution_count": null,
      "id": "038cf987-7988-4c0a-ad42-84155fcf7f68",
      "metadata": {
        "id": "038cf987-7988-4c0a-ad42-84155fcf7f68",
        "outputId": "227056f5-92e4-469d-d801-0a798b033e3a"
      },
      "outputs": [
        {
          "data": {
            "text/plain": [
              "59"
            ]
          },
          "execution_count": 101,
          "metadata": {},
          "output_type": "execute_result"
        }
      ],
      "source": [
        "df[\"PRICE\"].min()\n",
        "df['PRICE'].max()"
      ]
    },
    {
      "cell_type": "code",
      "execution_count": null,
      "id": "4da63180-0901-4a9e-a1b8-c3f2d6e1d913",
      "metadata": {
        "id": "4da63180-0901-4a9e-a1b8-c3f2d6e1d913"
      },
      "outputs": [],
      "source": [
        "df[\"SEGMENT\"] = pd.cut(\n",
        "    df[\"PRICE\"],\n",
        "    bins=[9, 21.5, 34, 46.5, 59],\n",
        "    labels=[\"D\", \"C\", \"B\", \"A\"],\n",
        "    include_lowest=True\n",
        ")\n"
      ]
    },
    {
      "cell_type": "code",
      "execution_count": null,
      "id": "c7d822cb-5427-42e6-9067-861de196c488",
      "metadata": {
        "id": "c7d822cb-5427-42e6-9067-861de196c488",
        "outputId": "e7cb014b-5a07-483b-d98d-109736ad71e4"
      },
      "outputs": [
        {
          "data": {
            "text/html": [
              "<div>\n",
              "<style scoped>\n",
              "    .dataframe tbody tr th:only-of-type {\n",
              "        vertical-align: middle;\n",
              "    }\n",
              "\n",
              "    .dataframe tbody tr th {\n",
              "        vertical-align: top;\n",
              "    }\n",
              "\n",
              "    .dataframe thead th {\n",
              "        text-align: right;\n",
              "    }\n",
              "</style>\n",
              "<table border=\"1\" class=\"dataframe\">\n",
              "  <thead>\n",
              "    <tr style=\"text-align: right;\">\n",
              "      <th></th>\n",
              "      <th>PRICE</th>\n",
              "      <th>SOURCE</th>\n",
              "      <th>SEX</th>\n",
              "      <th>COUNTRY</th>\n",
              "      <th>AGE</th>\n",
              "      <th>AGE_CAT</th>\n",
              "      <th>SEGMENT</th>\n",
              "    </tr>\n",
              "  </thead>\n",
              "  <tbody>\n",
              "    <tr>\n",
              "      <th>0</th>\n",
              "      <td>39</td>\n",
              "      <td>android</td>\n",
              "      <td>male</td>\n",
              "      <td>bra</td>\n",
              "      <td>17</td>\n",
              "      <td>0_18</td>\n",
              "      <td>B</td>\n",
              "    </tr>\n",
              "    <tr>\n",
              "      <th>1</th>\n",
              "      <td>39</td>\n",
              "      <td>android</td>\n",
              "      <td>male</td>\n",
              "      <td>bra</td>\n",
              "      <td>17</td>\n",
              "      <td>0_18</td>\n",
              "      <td>B</td>\n",
              "    </tr>\n",
              "    <tr>\n",
              "      <th>2</th>\n",
              "      <td>49</td>\n",
              "      <td>android</td>\n",
              "      <td>male</td>\n",
              "      <td>bra</td>\n",
              "      <td>17</td>\n",
              "      <td>0_18</td>\n",
              "      <td>A</td>\n",
              "    </tr>\n",
              "    <tr>\n",
              "      <th>3</th>\n",
              "      <td>29</td>\n",
              "      <td>android</td>\n",
              "      <td>male</td>\n",
              "      <td>tur</td>\n",
              "      <td>17</td>\n",
              "      <td>0_18</td>\n",
              "      <td>C</td>\n",
              "    </tr>\n",
              "    <tr>\n",
              "      <th>4</th>\n",
              "      <td>49</td>\n",
              "      <td>android</td>\n",
              "      <td>male</td>\n",
              "      <td>tur</td>\n",
              "      <td>17</td>\n",
              "      <td>0_18</td>\n",
              "      <td>A</td>\n",
              "    </tr>\n",
              "  </tbody>\n",
              "</table>\n",
              "</div>"
            ],
            "text/plain": [
              "   PRICE   SOURCE   SEX COUNTRY  AGE AGE_CAT SEGMENT\n",
              "0     39  android  male     bra   17    0_18       B\n",
              "1     39  android  male     bra   17    0_18       B\n",
              "2     49  android  male     bra   17    0_18       A\n",
              "3     29  android  male     tur   17    0_18       C\n",
              "4     49  android  male     tur   17    0_18       A"
            ]
          },
          "execution_count": 107,
          "metadata": {},
          "output_type": "execute_result"
        }
      ],
      "source": [
        "df.head()\n"
      ]
    },
    {
      "cell_type": "code",
      "execution_count": null,
      "id": "4c52f30c-5aaf-4974-8ebe-bf965ceee504",
      "metadata": {
        "id": "4c52f30c-5aaf-4974-8ebe-bf965ceee504",
        "outputId": "61304583-b9df-4966-ff97-faec315d361b"
      },
      "outputs": [
        {
          "name": "stdout",
          "output_type": "stream",
          "text": [
            "source, country ve yas aragılına gore ortalama satıs fiyatı\n",
            " SOURCE   COUNTRY  AGE_CAT\n",
            "android  bra      0_18        9789\n",
            "                  19_23      11106\n",
            "                  24_30       6147\n",
            "                  31_40       4451\n",
            "                  41_70       1381\n",
            "         can      0_18        1522\n",
            "                  19_23       1040\n",
            "                  24_30        728\n",
            "                  31_40          0\n",
            "                  41_70        943\n",
            "         deu      0_18        3038\n",
            "                  19_23       2217\n",
            "                  24_30       1475\n",
            "                  31_40       1935\n",
            "                  41_70        446\n",
            "         fra      0_18        2186\n",
            "                  19_23       2051\n",
            "                  24_30        447\n",
            "                  31_40        505\n",
            "                  41_70        301\n",
            "         tur      0_18        2911\n",
            "                  19_23       1612\n",
            "                  24_30       2668\n",
            "                  31_40        517\n",
            "                  41_70        661\n",
            "         usa      0_18       15244\n",
            "                  19_23      11673\n",
            "                  24_30       7413\n",
            "                  31_40       3930\n",
            "                  41_70       3299\n",
            "ios      bra      0_18        7437\n",
            "                  19_23       3429\n",
            "                  24_30       2758\n",
            "                  31_40       2894\n",
            "                  41_70       1962\n",
            "         can      0_18        2160\n",
            "                  19_23          0\n",
            "                  24_30       1066\n",
            "                  31_40        116\n",
            "                  41_70        155\n",
            "         deu      0_18        4064\n",
            "                  19_23        340\n",
            "                  24_30       1087\n",
            "                  31_40        698\n",
            "                  41_70        185\n",
            "         fra      0_18        1949\n",
            "                  19_23        681\n",
            "                  24_30        677\n",
            "                  31_40       1341\n",
            "                  41_70         39\n",
            "         tur      0_18        2466\n",
            "                  19_23       2563\n",
            "                  24_30       1109\n",
            "                  31_40        436\n",
            "                  41_70        746\n",
            "         usa      0_18       11143\n",
            "                  19_23       7276\n",
            "                  24_30       5144\n",
            "                  31_40       3083\n",
            "                  41_70       2020\n",
            "Name: PRICE, dtype: int64\n",
            "source, country ve yas aragılına gore ortalama toplam asatıs miktarı \n",
            " SOURCE   COUNTRY  AGE_CAT\n",
            "android  bra      0_18       281\n",
            "                  19_23      324\n",
            "                  24_30      183\n",
            "                  31_40      129\n",
            "                  41_70       39\n",
            "         can      0_18        48\n",
            "                  19_23       30\n",
            "                  24_30       22\n",
            "                  31_40        0\n",
            "                  41_70       27\n",
            "         deu      0_18        92\n",
            "                  19_23       63\n",
            "                  24_30       45\n",
            "                  31_40       55\n",
            "                  41_70       14\n",
            "         fra      0_18        64\n",
            "                  19_23       59\n",
            "                  24_30       13\n",
            "                  31_40       15\n",
            "                  41_70        9\n",
            "         tur      0_18        79\n",
            "                  19_23       48\n",
            "                  24_30       72\n",
            "                  31_40       13\n",
            "                  41_70       19\n",
            "         usa      0_18       446\n",
            "                  19_23      347\n",
            "                  24_30      227\n",
            "                  31_40      120\n",
            "                  41_70       91\n",
            "ios      bra      0_18       213\n",
            "                  19_23      101\n",
            "                  24_30       82\n",
            "                  31_40       86\n",
            "                  41_70       58\n",
            "         can      0_18        60\n",
            "                  19_23        0\n",
            "                  24_30       34\n",
            "                  31_40        4\n",
            "                  41_70        5\n",
            "         deu      0_18       116\n",
            "                  19_23       10\n",
            "                  24_30       33\n",
            "                  31_40       22\n",
            "                  41_70        5\n",
            "         fra      0_18        61\n",
            "                  19_23       19\n",
            "                  24_30       23\n",
            "                  31_40       39\n",
            "                  41_70        1\n",
            "         tur      0_18        74\n",
            "                  19_23       77\n",
            "                  24_30       31\n",
            "                  31_40       14\n",
            "                  41_70       24\n",
            "         usa      0_18       327\n",
            "                  19_23      204\n",
            "                  24_30      146\n",
            "                  31_40       97\n",
            "                  41_70       60\n",
            "dtype: int64\n"
          ]
        },
        {
          "name": "stderr",
          "output_type": "stream",
          "text": [
            "C:\\Users\\user\\AppData\\Local\\Temp\\ipykernel_9596\\3713851974.py:1: FutureWarning: The default of observed=False is deprecated and will be changed to True in a future version of pandas. Pass observed=False to retain current behavior or observed=True to adopt the future default and silence this warning.\n",
            "  print(\"source, country ve yas aragılına gore ortalama satıs fiyatı\\n\",df.groupby([\"SOURCE\",\"COUNTRY\",\"AGE_CAT\"])[\"PRICE\"].sum())\n",
            "C:\\Users\\user\\AppData\\Local\\Temp\\ipykernel_9596\\3713851974.py:2: FutureWarning: The default of observed=False is deprecated and will be changed to True in a future version of pandas. Pass observed=False to retain current behavior or observed=True to adopt the future default and silence this warning.\n",
            "  print(\"source, country ve yas aragılına gore ortalama toplam asatıs miktarı \\n\",df.groupby([\"SOURCE\",\"COUNTRY\",\"AGE_CAT\"]).size())\n"
          ]
        }
      ],
      "source": [
        "print(\"source, country ve yas aragılına gore ortalama satıs fiyatı\\n\",df.groupby([\"SOURCE\",\"COUNTRY\",\"AGE_CAT\"])[\"PRICE\"].sum())"
      ]
    },
    {
      "cell_type": "code",
      "execution_count": null,
      "id": "291d787f-49f2-4428-8334-61004dfb63e0",
      "metadata": {
        "id": "291d787f-49f2-4428-8334-61004dfb63e0",
        "outputId": "9fbec6ff-4823-4068-d6b3-b679f9c2e78d"
      },
      "outputs": [
        {
          "name": "stdout",
          "output_type": "stream",
          "text": [
            " 33 yaşında ANDROID kullanan bir Türk kadını B segmentine aittir ortalama \n",
            "  39.76923113 \n",
            " getirisi olur \n",
            "\n",
            "35 yaşında IOS kullanan bir Fransız kadın C segmentine aittir ortalama \n",
            " 34.38 \n",
            " getirisi olur \n",
            "\n"
          ]
        }
      ],
      "source": [
        "print(\" 33 yaşında ANDROID kullanan bir Türk kadını B segmentine aittir ortalama \\n \",39.76923113,\"\\n getirisi olur \\n\")\n",
        "print(\"35 yaşında IOS kullanan bir Fransız kadın C segmentine aittir ortalama \\n\",34.38,\"\\n getirisi olur \\n\")"
      ]
    }
  ],
  "metadata": {
    "kernelspec": {
      "display_name": "Python 3 (ipykernel)",
      "language": "python",
      "name": "python3"
    },
    "language_info": {
      "codemirror_mode": {
        "name": "ipython",
        "version": 3
      },
      "file_extension": ".py",
      "mimetype": "text/x-python",
      "name": "python",
      "nbconvert_exporter": "python",
      "pygments_lexer": "ipython3",
      "version": "3.13.0"
    },
    "colab": {
      "provenance": [],
      "include_colab_link": true
    }
  },
  "nbformat": 4,
  "nbformat_minor": 5
}